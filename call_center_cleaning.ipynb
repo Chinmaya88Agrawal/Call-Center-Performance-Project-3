{
 "cells": [
  {
   "cell_type": "markdown",
   "id": "825b5826",
   "metadata": {},
   "source": [
    "# Call Center Data Cleaning Notebook"
   ]
  },
  {
   "cell_type": "code",
   "execution_count": null,
   "id": "759ecaf6",
   "metadata": {},
   "outputs": [],
   "source": [
    "\n",
    "import pandas as pd\n",
    "import numpy as np\n",
    "\n",
    "# Load dataset\n",
    "file_path = \"01 Call-Center-Dataset.xlsx\"\n",
    "df = pd.read_excel(file_path, sheet_name=\"Sheet1\")\n",
    "df.head()\n"
   ]
  },
  {
   "cell_type": "code",
   "execution_count": null,
   "id": "44d2c2cd",
   "metadata": {},
   "outputs": [],
   "source": [
    "\n",
    "# Convert Date and Time into a single datetime\n",
    "df[\"Datetime\"] = pd.to_datetime(df[\"Date\"].astype(str) + \" \" + df[\"Time\"].astype(str), errors=\"coerce\")\n",
    "\n",
    "# Convert Answered and Resolved to boolean (1/0)\n",
    "df[\"Answered\"] = df[\"Answered (Y/N)\"].map({\"Y\": 1, \"N\": 0})\n",
    "df[\"Resolved\"] = df[\"Resolved\"].map({\"Y\": 1, \"N\": 0})\n",
    "\n",
    "# Convert AvgTalkDuration (HH:MM:SS) into seconds\n",
    "def duration_to_seconds(x):\n",
    "    try:\n",
    "        h, m, s = map(int, x.split(\":\"))\n",
    "        return h*3600 + m*60 + s\n",
    "    except:\n",
    "        return np.nan\n",
    "\n",
    "df[\"TalkDurationSeconds\"] = df[\"AvgTalkDuration\"].astype(str).apply(duration_to_seconds)\n",
    "\n",
    "# Clean column names (remove spaces)\n",
    "df.columns = [c.strip().replace(\" \", \"_\") for c in df.columns]\n",
    "\n",
    "# Drop redundant columns\n",
    "df_cleaned = df.drop(columns=[\"Date\", \"Time\", \"Answered_(Y/N)\", \"AvgTalkDuration\"])\n",
    "\n",
    "df_cleaned.head()\n"
   ]
  },
  {
   "cell_type": "code",
   "execution_count": null,
   "id": "f27da96b",
   "metadata": {},
   "outputs": [],
   "source": [
    "\n",
    "# Save cleaned dataset\n",
    "df_cleaned.to_csv(\"cleaned_call_center.csv\", index=False)\n",
    "print(\"Cleaned dataset saved as cleaned_call_center.csv\")\n"
   ]
  }
 ],
 "metadata": {},
 "nbformat": 4,
 "nbformat_minor": 5
}
